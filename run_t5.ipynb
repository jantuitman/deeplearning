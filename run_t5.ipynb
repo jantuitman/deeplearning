{
  "nbformat": 4,
  "nbformat_minor": 0,
  "metadata": {
    "colab": {
      "provenance": [],
      "mount_file_id": "1wg3tedrON-qlo9IYibiIk_oJM7ppTtoT",
      "authorship_tag": "ABX9TyN1CjyN8rrZtasithnq6EFS",
      "include_colab_link": true
    },
    "kernelspec": {
      "name": "python3",
      "display_name": "Python 3"
    },
    "language_info": {
      "name": "python"
    },
    "widgets": {
      "application/vnd.jupyter.widget-state+json": {
        "acfbab6febf74b69babdfbba58753558": {
          "model_module": "@jupyter-widgets/controls",
          "model_name": "HBoxModel",
          "model_module_version": "1.5.0",
          "state": {
            "_dom_classes": [],
            "_model_module": "@jupyter-widgets/controls",
            "_model_module_version": "1.5.0",
            "_model_name": "HBoxModel",
            "_view_count": null,
            "_view_module": "@jupyter-widgets/controls",
            "_view_module_version": "1.5.0",
            "_view_name": "HBoxView",
            "box_style": "",
            "children": [
              "IPY_MODEL_3591bf4ea1da4f99a0826afac573c46e",
              "IPY_MODEL_ea14552169294820989b73d71e50da62",
              "IPY_MODEL_4660a610912c4bf48e4162c3b40acab7"
            ],
            "layout": "IPY_MODEL_31787879ef4945f5a4742c1b29e8a6dd"
          }
        },
        "3591bf4ea1da4f99a0826afac573c46e": {
          "model_module": "@jupyter-widgets/controls",
          "model_name": "HTMLModel",
          "model_module_version": "1.5.0",
          "state": {
            "_dom_classes": [],
            "_model_module": "@jupyter-widgets/controls",
            "_model_module_version": "1.5.0",
            "_model_name": "HTMLModel",
            "_view_count": null,
            "_view_module": "@jupyter-widgets/controls",
            "_view_module_version": "1.5.0",
            "_view_name": "HTMLView",
            "description": "",
            "description_tooltip": null,
            "layout": "IPY_MODEL_4dd683aa444a461a93fc02c4fc4b396d",
            "placeholder": "​",
            "style": "IPY_MODEL_bd5e1fdf9c8b45b9aa1bdb1139906915",
            "value": "Downloading: 100%"
          }
        },
        "ea14552169294820989b73d71e50da62": {
          "model_module": "@jupyter-widgets/controls",
          "model_name": "FloatProgressModel",
          "model_module_version": "1.5.0",
          "state": {
            "_dom_classes": [],
            "_model_module": "@jupyter-widgets/controls",
            "_model_module_version": "1.5.0",
            "_model_name": "FloatProgressModel",
            "_view_count": null,
            "_view_module": "@jupyter-widgets/controls",
            "_view_module_version": "1.5.0",
            "_view_name": "ProgressView",
            "bar_style": "success",
            "description": "",
            "description_tooltip": null,
            "layout": "IPY_MODEL_b5fb988017d24d4abe3935024b3d528b",
            "max": 1893,
            "min": 0,
            "orientation": "horizontal",
            "style": "IPY_MODEL_60df29a8442444a992e72fda21270396",
            "value": 1893
          }
        },
        "4660a610912c4bf48e4162c3b40acab7": {
          "model_module": "@jupyter-widgets/controls",
          "model_name": "HTMLModel",
          "model_module_version": "1.5.0",
          "state": {
            "_dom_classes": [],
            "_model_module": "@jupyter-widgets/controls",
            "_model_module_version": "1.5.0",
            "_model_name": "HTMLModel",
            "_view_count": null,
            "_view_module": "@jupyter-widgets/controls",
            "_view_module_version": "1.5.0",
            "_view_name": "HTMLView",
            "description": "",
            "description_tooltip": null,
            "layout": "IPY_MODEL_96d26b0f3c3b4705bc6ef6397809cec5",
            "placeholder": "​",
            "style": "IPY_MODEL_8914bd5e28bb4738a3e77c01a8604b89",
            "value": " 1.89k/1.89k [00:00&lt;00:00, 39.9kB/s]"
          }
        },
        "31787879ef4945f5a4742c1b29e8a6dd": {
          "model_module": "@jupyter-widgets/base",
          "model_name": "LayoutModel",
          "model_module_version": "1.2.0",
          "state": {
            "_model_module": "@jupyter-widgets/base",
            "_model_module_version": "1.2.0",
            "_model_name": "LayoutModel",
            "_view_count": null,
            "_view_module": "@jupyter-widgets/base",
            "_view_module_version": "1.2.0",
            "_view_name": "LayoutView",
            "align_content": null,
            "align_items": null,
            "align_self": null,
            "border": null,
            "bottom": null,
            "display": null,
            "flex": null,
            "flex_flow": null,
            "grid_area": null,
            "grid_auto_columns": null,
            "grid_auto_flow": null,
            "grid_auto_rows": null,
            "grid_column": null,
            "grid_gap": null,
            "grid_row": null,
            "grid_template_areas": null,
            "grid_template_columns": null,
            "grid_template_rows": null,
            "height": null,
            "justify_content": null,
            "justify_items": null,
            "left": null,
            "margin": null,
            "max_height": null,
            "max_width": null,
            "min_height": null,
            "min_width": null,
            "object_fit": null,
            "object_position": null,
            "order": null,
            "overflow": null,
            "overflow_x": null,
            "overflow_y": null,
            "padding": null,
            "right": null,
            "top": null,
            "visibility": null,
            "width": null
          }
        },
        "4dd683aa444a461a93fc02c4fc4b396d": {
          "model_module": "@jupyter-widgets/base",
          "model_name": "LayoutModel",
          "model_module_version": "1.2.0",
          "state": {
            "_model_module": "@jupyter-widgets/base",
            "_model_module_version": "1.2.0",
            "_model_name": "LayoutModel",
            "_view_count": null,
            "_view_module": "@jupyter-widgets/base",
            "_view_module_version": "1.2.0",
            "_view_name": "LayoutView",
            "align_content": null,
            "align_items": null,
            "align_self": null,
            "border": null,
            "bottom": null,
            "display": null,
            "flex": null,
            "flex_flow": null,
            "grid_area": null,
            "grid_auto_columns": null,
            "grid_auto_flow": null,
            "grid_auto_rows": null,
            "grid_column": null,
            "grid_gap": null,
            "grid_row": null,
            "grid_template_areas": null,
            "grid_template_columns": null,
            "grid_template_rows": null,
            "height": null,
            "justify_content": null,
            "justify_items": null,
            "left": null,
            "margin": null,
            "max_height": null,
            "max_width": null,
            "min_height": null,
            "min_width": null,
            "object_fit": null,
            "object_position": null,
            "order": null,
            "overflow": null,
            "overflow_x": null,
            "overflow_y": null,
            "padding": null,
            "right": null,
            "top": null,
            "visibility": null,
            "width": null
          }
        },
        "bd5e1fdf9c8b45b9aa1bdb1139906915": {
          "model_module": "@jupyter-widgets/controls",
          "model_name": "DescriptionStyleModel",
          "model_module_version": "1.5.0",
          "state": {
            "_model_module": "@jupyter-widgets/controls",
            "_model_module_version": "1.5.0",
            "_model_name": "DescriptionStyleModel",
            "_view_count": null,
            "_view_module": "@jupyter-widgets/base",
            "_view_module_version": "1.2.0",
            "_view_name": "StyleView",
            "description_width": ""
          }
        },
        "b5fb988017d24d4abe3935024b3d528b": {
          "model_module": "@jupyter-widgets/base",
          "model_name": "LayoutModel",
          "model_module_version": "1.2.0",
          "state": {
            "_model_module": "@jupyter-widgets/base",
            "_model_module_version": "1.2.0",
            "_model_name": "LayoutModel",
            "_view_count": null,
            "_view_module": "@jupyter-widgets/base",
            "_view_module_version": "1.2.0",
            "_view_name": "LayoutView",
            "align_content": null,
            "align_items": null,
            "align_self": null,
            "border": null,
            "bottom": null,
            "display": null,
            "flex": null,
            "flex_flow": null,
            "grid_area": null,
            "grid_auto_columns": null,
            "grid_auto_flow": null,
            "grid_auto_rows": null,
            "grid_column": null,
            "grid_gap": null,
            "grid_row": null,
            "grid_template_areas": null,
            "grid_template_columns": null,
            "grid_template_rows": null,
            "height": null,
            "justify_content": null,
            "justify_items": null,
            "left": null,
            "margin": null,
            "max_height": null,
            "max_width": null,
            "min_height": null,
            "min_width": null,
            "object_fit": null,
            "object_position": null,
            "order": null,
            "overflow": null,
            "overflow_x": null,
            "overflow_y": null,
            "padding": null,
            "right": null,
            "top": null,
            "visibility": null,
            "width": null
          }
        },
        "60df29a8442444a992e72fda21270396": {
          "model_module": "@jupyter-widgets/controls",
          "model_name": "ProgressStyleModel",
          "model_module_version": "1.5.0",
          "state": {
            "_model_module": "@jupyter-widgets/controls",
            "_model_module_version": "1.5.0",
            "_model_name": "ProgressStyleModel",
            "_view_count": null,
            "_view_module": "@jupyter-widgets/base",
            "_view_module_version": "1.2.0",
            "_view_name": "StyleView",
            "bar_color": null,
            "description_width": ""
          }
        },
        "96d26b0f3c3b4705bc6ef6397809cec5": {
          "model_module": "@jupyter-widgets/base",
          "model_name": "LayoutModel",
          "model_module_version": "1.2.0",
          "state": {
            "_model_module": "@jupyter-widgets/base",
            "_model_module_version": "1.2.0",
            "_model_name": "LayoutModel",
            "_view_count": null,
            "_view_module": "@jupyter-widgets/base",
            "_view_module_version": "1.2.0",
            "_view_name": "LayoutView",
            "align_content": null,
            "align_items": null,
            "align_self": null,
            "border": null,
            "bottom": null,
            "display": null,
            "flex": null,
            "flex_flow": null,
            "grid_area": null,
            "grid_auto_columns": null,
            "grid_auto_flow": null,
            "grid_auto_rows": null,
            "grid_column": null,
            "grid_gap": null,
            "grid_row": null,
            "grid_template_areas": null,
            "grid_template_columns": null,
            "grid_template_rows": null,
            "height": null,
            "justify_content": null,
            "justify_items": null,
            "left": null,
            "margin": null,
            "max_height": null,
            "max_width": null,
            "min_height": null,
            "min_width": null,
            "object_fit": null,
            "object_position": null,
            "order": null,
            "overflow": null,
            "overflow_x": null,
            "overflow_y": null,
            "padding": null,
            "right": null,
            "top": null,
            "visibility": null,
            "width": null
          }
        },
        "8914bd5e28bb4738a3e77c01a8604b89": {
          "model_module": "@jupyter-widgets/controls",
          "model_name": "DescriptionStyleModel",
          "model_module_version": "1.5.0",
          "state": {
            "_model_module": "@jupyter-widgets/controls",
            "_model_module_version": "1.5.0",
            "_model_name": "DescriptionStyleModel",
            "_view_count": null,
            "_view_module": "@jupyter-widgets/base",
            "_view_module_version": "1.2.0",
            "_view_name": "StyleView",
            "description_width": ""
          }
        },
        "fec4b69e68f54648b9f573924e068ea6": {
          "model_module": "@jupyter-widgets/controls",
          "model_name": "HBoxModel",
          "model_module_version": "1.5.0",
          "state": {
            "_dom_classes": [],
            "_model_module": "@jupyter-widgets/controls",
            "_model_module_version": "1.5.0",
            "_model_name": "HBoxModel",
            "_view_count": null,
            "_view_module": "@jupyter-widgets/controls",
            "_view_module_version": "1.5.0",
            "_view_name": "HBoxView",
            "box_style": "",
            "children": [
              "IPY_MODEL_e320b4602bfe45d0bcf3189974ca21b1",
              "IPY_MODEL_aaa3d0b6bd014e62a9493d65f70e757d",
              "IPY_MODEL_5b50a3b95d6a4dd0b809ba3c854364a1"
            ],
            "layout": "IPY_MODEL_7083bedb92d64e57bc0a9c926fbf505e"
          }
        },
        "e320b4602bfe45d0bcf3189974ca21b1": {
          "model_module": "@jupyter-widgets/controls",
          "model_name": "HTMLModel",
          "model_module_version": "1.5.0",
          "state": {
            "_dom_classes": [],
            "_model_module": "@jupyter-widgets/controls",
            "_model_module_version": "1.5.0",
            "_model_name": "HTMLModel",
            "_view_count": null,
            "_view_module": "@jupyter-widgets/controls",
            "_view_module_version": "1.5.0",
            "_view_name": "HTMLView",
            "description": "",
            "description_tooltip": null,
            "layout": "IPY_MODEL_2386091552cb451cbfa0478e66fb3115",
            "placeholder": "​",
            "style": "IPY_MODEL_3dab19afbf1c46329e9cb1cadb68a2b5",
            "value": "Downloading: 100%"
          }
        },
        "aaa3d0b6bd014e62a9493d65f70e757d": {
          "model_module": "@jupyter-widgets/controls",
          "model_name": "FloatProgressModel",
          "model_module_version": "1.5.0",
          "state": {
            "_dom_classes": [],
            "_model_module": "@jupyter-widgets/controls",
            "_model_module_version": "1.5.0",
            "_model_name": "FloatProgressModel",
            "_view_count": null,
            "_view_module": "@jupyter-widgets/controls",
            "_view_module_version": "1.5.0",
            "_view_name": "ProgressView",
            "bar_style": "success",
            "description": "",
            "description_tooltip": null,
            "layout": "IPY_MODEL_04f68a31c28b4b35a8168d867d3ebede",
            "max": 1026188,
            "min": 0,
            "orientation": "horizontal",
            "style": "IPY_MODEL_89cc8e34989640ec8c9fa0e35fa9aec6",
            "value": 1026188
          }
        },
        "5b50a3b95d6a4dd0b809ba3c854364a1": {
          "model_module": "@jupyter-widgets/controls",
          "model_name": "HTMLModel",
          "model_module_version": "1.5.0",
          "state": {
            "_dom_classes": [],
            "_model_module": "@jupyter-widgets/controls",
            "_model_module_version": "1.5.0",
            "_model_name": "HTMLModel",
            "_view_count": null,
            "_view_module": "@jupyter-widgets/controls",
            "_view_module_version": "1.5.0",
            "_view_name": "HTMLView",
            "description": "",
            "description_tooltip": null,
            "layout": "IPY_MODEL_adbfbfc98d1343b2bbd3f8a2a594b37d",
            "placeholder": "​",
            "style": "IPY_MODEL_d87f73089f4c4acdb645f9018aa78814",
            "value": " 1.03M/1.03M [00:00&lt;00:00, 1.11MB/s]"
          }
        },
        "7083bedb92d64e57bc0a9c926fbf505e": {
          "model_module": "@jupyter-widgets/base",
          "model_name": "LayoutModel",
          "model_module_version": "1.2.0",
          "state": {
            "_model_module": "@jupyter-widgets/base",
            "_model_module_version": "1.2.0",
            "_model_name": "LayoutModel",
            "_view_count": null,
            "_view_module": "@jupyter-widgets/base",
            "_view_module_version": "1.2.0",
            "_view_name": "LayoutView",
            "align_content": null,
            "align_items": null,
            "align_self": null,
            "border": null,
            "bottom": null,
            "display": null,
            "flex": null,
            "flex_flow": null,
            "grid_area": null,
            "grid_auto_columns": null,
            "grid_auto_flow": null,
            "grid_auto_rows": null,
            "grid_column": null,
            "grid_gap": null,
            "grid_row": null,
            "grid_template_areas": null,
            "grid_template_columns": null,
            "grid_template_rows": null,
            "height": null,
            "justify_content": null,
            "justify_items": null,
            "left": null,
            "margin": null,
            "max_height": null,
            "max_width": null,
            "min_height": null,
            "min_width": null,
            "object_fit": null,
            "object_position": null,
            "order": null,
            "overflow": null,
            "overflow_x": null,
            "overflow_y": null,
            "padding": null,
            "right": null,
            "top": null,
            "visibility": null,
            "width": null
          }
        },
        "2386091552cb451cbfa0478e66fb3115": {
          "model_module": "@jupyter-widgets/base",
          "model_name": "LayoutModel",
          "model_module_version": "1.2.0",
          "state": {
            "_model_module": "@jupyter-widgets/base",
            "_model_module_version": "1.2.0",
            "_model_name": "LayoutModel",
            "_view_count": null,
            "_view_module": "@jupyter-widgets/base",
            "_view_module_version": "1.2.0",
            "_view_name": "LayoutView",
            "align_content": null,
            "align_items": null,
            "align_self": null,
            "border": null,
            "bottom": null,
            "display": null,
            "flex": null,
            "flex_flow": null,
            "grid_area": null,
            "grid_auto_columns": null,
            "grid_auto_flow": null,
            "grid_auto_rows": null,
            "grid_column": null,
            "grid_gap": null,
            "grid_row": null,
            "grid_template_areas": null,
            "grid_template_columns": null,
            "grid_template_rows": null,
            "height": null,
            "justify_content": null,
            "justify_items": null,
            "left": null,
            "margin": null,
            "max_height": null,
            "max_width": null,
            "min_height": null,
            "min_width": null,
            "object_fit": null,
            "object_position": null,
            "order": null,
            "overflow": null,
            "overflow_x": null,
            "overflow_y": null,
            "padding": null,
            "right": null,
            "top": null,
            "visibility": null,
            "width": null
          }
        },
        "3dab19afbf1c46329e9cb1cadb68a2b5": {
          "model_module": "@jupyter-widgets/controls",
          "model_name": "DescriptionStyleModel",
          "model_module_version": "1.5.0",
          "state": {
            "_model_module": "@jupyter-widgets/controls",
            "_model_module_version": "1.5.0",
            "_model_name": "DescriptionStyleModel",
            "_view_count": null,
            "_view_module": "@jupyter-widgets/base",
            "_view_module_version": "1.2.0",
            "_view_name": "StyleView",
            "description_width": ""
          }
        },
        "04f68a31c28b4b35a8168d867d3ebede": {
          "model_module": "@jupyter-widgets/base",
          "model_name": "LayoutModel",
          "model_module_version": "1.2.0",
          "state": {
            "_model_module": "@jupyter-widgets/base",
            "_model_module_version": "1.2.0",
            "_model_name": "LayoutModel",
            "_view_count": null,
            "_view_module": "@jupyter-widgets/base",
            "_view_module_version": "1.2.0",
            "_view_name": "LayoutView",
            "align_content": null,
            "align_items": null,
            "align_self": null,
            "border": null,
            "bottom": null,
            "display": null,
            "flex": null,
            "flex_flow": null,
            "grid_area": null,
            "grid_auto_columns": null,
            "grid_auto_flow": null,
            "grid_auto_rows": null,
            "grid_column": null,
            "grid_gap": null,
            "grid_row": null,
            "grid_template_areas": null,
            "grid_template_columns": null,
            "grid_template_rows": null,
            "height": null,
            "justify_content": null,
            "justify_items": null,
            "left": null,
            "margin": null,
            "max_height": null,
            "max_width": null,
            "min_height": null,
            "min_width": null,
            "object_fit": null,
            "object_position": null,
            "order": null,
            "overflow": null,
            "overflow_x": null,
            "overflow_y": null,
            "padding": null,
            "right": null,
            "top": null,
            "visibility": null,
            "width": null
          }
        },
        "89cc8e34989640ec8c9fa0e35fa9aec6": {
          "model_module": "@jupyter-widgets/controls",
          "model_name": "ProgressStyleModel",
          "model_module_version": "1.5.0",
          "state": {
            "_model_module": "@jupyter-widgets/controls",
            "_model_module_version": "1.5.0",
            "_model_name": "ProgressStyleModel",
            "_view_count": null,
            "_view_module": "@jupyter-widgets/base",
            "_view_module_version": "1.2.0",
            "_view_name": "StyleView",
            "bar_color": null,
            "description_width": ""
          }
        },
        "adbfbfc98d1343b2bbd3f8a2a594b37d": {
          "model_module": "@jupyter-widgets/base",
          "model_name": "LayoutModel",
          "model_module_version": "1.2.0",
          "state": {
            "_model_module": "@jupyter-widgets/base",
            "_model_module_version": "1.2.0",
            "_model_name": "LayoutModel",
            "_view_count": null,
            "_view_module": "@jupyter-widgets/base",
            "_view_module_version": "1.2.0",
            "_view_name": "LayoutView",
            "align_content": null,
            "align_items": null,
            "align_self": null,
            "border": null,
            "bottom": null,
            "display": null,
            "flex": null,
            "flex_flow": null,
            "grid_area": null,
            "grid_auto_columns": null,
            "grid_auto_flow": null,
            "grid_auto_rows": null,
            "grid_column": null,
            "grid_gap": null,
            "grid_row": null,
            "grid_template_areas": null,
            "grid_template_columns": null,
            "grid_template_rows": null,
            "height": null,
            "justify_content": null,
            "justify_items": null,
            "left": null,
            "margin": null,
            "max_height": null,
            "max_width": null,
            "min_height": null,
            "min_width": null,
            "object_fit": null,
            "object_position": null,
            "order": null,
            "overflow": null,
            "overflow_x": null,
            "overflow_y": null,
            "padding": null,
            "right": null,
            "top": null,
            "visibility": null,
            "width": null
          }
        },
        "d87f73089f4c4acdb645f9018aa78814": {
          "model_module": "@jupyter-widgets/controls",
          "model_name": "DescriptionStyleModel",
          "model_module_version": "1.5.0",
          "state": {
            "_model_module": "@jupyter-widgets/controls",
            "_model_module_version": "1.5.0",
            "_model_name": "DescriptionStyleModel",
            "_view_count": null,
            "_view_module": "@jupyter-widgets/base",
            "_view_module_version": "1.2.0",
            "_view_name": "StyleView",
            "description_width": ""
          }
        },
        "95addbbd97424462a61b2c509c1ae681": {
          "model_module": "@jupyter-widgets/controls",
          "model_name": "HBoxModel",
          "model_module_version": "1.5.0",
          "state": {
            "_dom_classes": [],
            "_model_module": "@jupyter-widgets/controls",
            "_model_module_version": "1.5.0",
            "_model_name": "HBoxModel",
            "_view_count": null,
            "_view_module": "@jupyter-widgets/controls",
            "_view_module_version": "1.5.0",
            "_view_name": "HBoxView",
            "box_style": "",
            "children": [
              "IPY_MODEL_517b2b992bfd403a81b63f127805c10a",
              "IPY_MODEL_2e4abac3d0114cbba0d61da25f204f04",
              "IPY_MODEL_c1e929915c7f44d986c65759c8a3c47f"
            ],
            "layout": "IPY_MODEL_6901f13414414521b827acc10ec13f4d"
          }
        },
        "517b2b992bfd403a81b63f127805c10a": {
          "model_module": "@jupyter-widgets/controls",
          "model_name": "HTMLModel",
          "model_module_version": "1.5.0",
          "state": {
            "_dom_classes": [],
            "_model_module": "@jupyter-widgets/controls",
            "_model_module_version": "1.5.0",
            "_model_name": "HTMLModel",
            "_view_count": null,
            "_view_module": "@jupyter-widgets/controls",
            "_view_module_version": "1.5.0",
            "_view_name": "HTMLView",
            "description": "",
            "description_tooltip": null,
            "layout": "IPY_MODEL_ef4d8e1f2b224a4b97eaaf05bb01b2e7",
            "placeholder": "​",
            "style": "IPY_MODEL_484fe5ad75c74c72bb287dc06bfbb64e",
            "value": "Downloading: 100%"
          }
        },
        "2e4abac3d0114cbba0d61da25f204f04": {
          "model_module": "@jupyter-widgets/controls",
          "model_name": "FloatProgressModel",
          "model_module_version": "1.5.0",
          "state": {
            "_dom_classes": [],
            "_model_module": "@jupyter-widgets/controls",
            "_model_module_version": "1.5.0",
            "_model_name": "FloatProgressModel",
            "_view_count": null,
            "_view_module": "@jupyter-widgets/controls",
            "_view_module_version": "1.5.0",
            "_view_name": "ProgressView",
            "bar_style": "success",
            "description": "",
            "description_tooltip": null,
            "layout": "IPY_MODEL_d8486a8bca9141618014fe515484b3a2",
            "max": 1786,
            "min": 0,
            "orientation": "horizontal",
            "style": "IPY_MODEL_a067a921874c4fd9bac6991bf91c3243",
            "value": 1786
          }
        },
        "c1e929915c7f44d986c65759c8a3c47f": {
          "model_module": "@jupyter-widgets/controls",
          "model_name": "HTMLModel",
          "model_module_version": "1.5.0",
          "state": {
            "_dom_classes": [],
            "_model_module": "@jupyter-widgets/controls",
            "_model_module_version": "1.5.0",
            "_model_name": "HTMLModel",
            "_view_count": null,
            "_view_module": "@jupyter-widgets/controls",
            "_view_module_version": "1.5.0",
            "_view_name": "HTMLView",
            "description": "",
            "description_tooltip": null,
            "layout": "IPY_MODEL_eab28b635416488c887bfa33ba1cdf5f",
            "placeholder": "​",
            "style": "IPY_MODEL_d53c0d808c204793b2e378bf43b63afd",
            "value": " 1.79k/1.79k [00:00&lt;00:00, 38.2kB/s]"
          }
        },
        "6901f13414414521b827acc10ec13f4d": {
          "model_module": "@jupyter-widgets/base",
          "model_name": "LayoutModel",
          "model_module_version": "1.2.0",
          "state": {
            "_model_module": "@jupyter-widgets/base",
            "_model_module_version": "1.2.0",
            "_model_name": "LayoutModel",
            "_view_count": null,
            "_view_module": "@jupyter-widgets/base",
            "_view_module_version": "1.2.0",
            "_view_name": "LayoutView",
            "align_content": null,
            "align_items": null,
            "align_self": null,
            "border": null,
            "bottom": null,
            "display": null,
            "flex": null,
            "flex_flow": null,
            "grid_area": null,
            "grid_auto_columns": null,
            "grid_auto_flow": null,
            "grid_auto_rows": null,
            "grid_column": null,
            "grid_gap": null,
            "grid_row": null,
            "grid_template_areas": null,
            "grid_template_columns": null,
            "grid_template_rows": null,
            "height": null,
            "justify_content": null,
            "justify_items": null,
            "left": null,
            "margin": null,
            "max_height": null,
            "max_width": null,
            "min_height": null,
            "min_width": null,
            "object_fit": null,
            "object_position": null,
            "order": null,
            "overflow": null,
            "overflow_x": null,
            "overflow_y": null,
            "padding": null,
            "right": null,
            "top": null,
            "visibility": null,
            "width": null
          }
        },
        "ef4d8e1f2b224a4b97eaaf05bb01b2e7": {
          "model_module": "@jupyter-widgets/base",
          "model_name": "LayoutModel",
          "model_module_version": "1.2.0",
          "state": {
            "_model_module": "@jupyter-widgets/base",
            "_model_module_version": "1.2.0",
            "_model_name": "LayoutModel",
            "_view_count": null,
            "_view_module": "@jupyter-widgets/base",
            "_view_module_version": "1.2.0",
            "_view_name": "LayoutView",
            "align_content": null,
            "align_items": null,
            "align_self": null,
            "border": null,
            "bottom": null,
            "display": null,
            "flex": null,
            "flex_flow": null,
            "grid_area": null,
            "grid_auto_columns": null,
            "grid_auto_flow": null,
            "grid_auto_rows": null,
            "grid_column": null,
            "grid_gap": null,
            "grid_row": null,
            "grid_template_areas": null,
            "grid_template_columns": null,
            "grid_template_rows": null,
            "height": null,
            "justify_content": null,
            "justify_items": null,
            "left": null,
            "margin": null,
            "max_height": null,
            "max_width": null,
            "min_height": null,
            "min_width": null,
            "object_fit": null,
            "object_position": null,
            "order": null,
            "overflow": null,
            "overflow_x": null,
            "overflow_y": null,
            "padding": null,
            "right": null,
            "top": null,
            "visibility": null,
            "width": null
          }
        },
        "484fe5ad75c74c72bb287dc06bfbb64e": {
          "model_module": "@jupyter-widgets/controls",
          "model_name": "DescriptionStyleModel",
          "model_module_version": "1.5.0",
          "state": {
            "_model_module": "@jupyter-widgets/controls",
            "_model_module_version": "1.5.0",
            "_model_name": "DescriptionStyleModel",
            "_view_count": null,
            "_view_module": "@jupyter-widgets/base",
            "_view_module_version": "1.2.0",
            "_view_name": "StyleView",
            "description_width": ""
          }
        },
        "d8486a8bca9141618014fe515484b3a2": {
          "model_module": "@jupyter-widgets/base",
          "model_name": "LayoutModel",
          "model_module_version": "1.2.0",
          "state": {
            "_model_module": "@jupyter-widgets/base",
            "_model_module_version": "1.2.0",
            "_model_name": "LayoutModel",
            "_view_count": null,
            "_view_module": "@jupyter-widgets/base",
            "_view_module_version": "1.2.0",
            "_view_name": "LayoutView",
            "align_content": null,
            "align_items": null,
            "align_self": null,
            "border": null,
            "bottom": null,
            "display": null,
            "flex": null,
            "flex_flow": null,
            "grid_area": null,
            "grid_auto_columns": null,
            "grid_auto_flow": null,
            "grid_auto_rows": null,
            "grid_column": null,
            "grid_gap": null,
            "grid_row": null,
            "grid_template_areas": null,
            "grid_template_columns": null,
            "grid_template_rows": null,
            "height": null,
            "justify_content": null,
            "justify_items": null,
            "left": null,
            "margin": null,
            "max_height": null,
            "max_width": null,
            "min_height": null,
            "min_width": null,
            "object_fit": null,
            "object_position": null,
            "order": null,
            "overflow": null,
            "overflow_x": null,
            "overflow_y": null,
            "padding": null,
            "right": null,
            "top": null,
            "visibility": null,
            "width": null
          }
        },
        "a067a921874c4fd9bac6991bf91c3243": {
          "model_module": "@jupyter-widgets/controls",
          "model_name": "ProgressStyleModel",
          "model_module_version": "1.5.0",
          "state": {
            "_model_module": "@jupyter-widgets/controls",
            "_model_module_version": "1.5.0",
            "_model_name": "ProgressStyleModel",
            "_view_count": null,
            "_view_module": "@jupyter-widgets/base",
            "_view_module_version": "1.2.0",
            "_view_name": "StyleView",
            "bar_color": null,
            "description_width": ""
          }
        },
        "eab28b635416488c887bfa33ba1cdf5f": {
          "model_module": "@jupyter-widgets/base",
          "model_name": "LayoutModel",
          "model_module_version": "1.2.0",
          "state": {
            "_model_module": "@jupyter-widgets/base",
            "_model_module_version": "1.2.0",
            "_model_name": "LayoutModel",
            "_view_count": null,
            "_view_module": "@jupyter-widgets/base",
            "_view_module_version": "1.2.0",
            "_view_name": "LayoutView",
            "align_content": null,
            "align_items": null,
            "align_self": null,
            "border": null,
            "bottom": null,
            "display": null,
            "flex": null,
            "flex_flow": null,
            "grid_area": null,
            "grid_auto_columns": null,
            "grid_auto_flow": null,
            "grid_auto_rows": null,
            "grid_column": null,
            "grid_gap": null,
            "grid_row": null,
            "grid_template_areas": null,
            "grid_template_columns": null,
            "grid_template_rows": null,
            "height": null,
            "justify_content": null,
            "justify_items": null,
            "left": null,
            "margin": null,
            "max_height": null,
            "max_width": null,
            "min_height": null,
            "min_width": null,
            "object_fit": null,
            "object_position": null,
            "order": null,
            "overflow": null,
            "overflow_x": null,
            "overflow_y": null,
            "padding": null,
            "right": null,
            "top": null,
            "visibility": null,
            "width": null
          }
        },
        "d53c0d808c204793b2e378bf43b63afd": {
          "model_module": "@jupyter-widgets/controls",
          "model_name": "DescriptionStyleModel",
          "model_module_version": "1.5.0",
          "state": {
            "_model_module": "@jupyter-widgets/controls",
            "_model_module_version": "1.5.0",
            "_model_name": "DescriptionStyleModel",
            "_view_count": null,
            "_view_module": "@jupyter-widgets/base",
            "_view_module_version": "1.2.0",
            "_view_name": "StyleView",
            "description_width": ""
          }
        }
      }
    }
  },
  "cells": [
    {
      "cell_type": "markdown",
      "metadata": {
        "id": "view-in-github",
        "colab_type": "text"
      },
      "source": [
        "<a href=\"https://colab.research.google.com/github/jantuitman/deeplearning/blob/main/run_t5.ipynb\" target=\"_parent\"><img src=\"https://colab.research.google.com/assets/colab-badge.svg\" alt=\"Open In Colab\"/></a>"
      ]
    },
    {
      "cell_type": "markdown",
      "source": [
        "# Evaluating a trained model\n",
        "\n",
        "This is a script to see if our T5 models are any good yet."
      ],
      "metadata": {
        "id": "caqdLAIlGq22"
      }
    },
    {
      "cell_type": "code",
      "execution_count": 1,
      "metadata": {
        "colab": {
          "base_uri": "https://localhost:8080/"
        },
        "id": "23H7k14NGoyj",
        "outputId": "122030e9-4e8e-4b85-e85a-bc953625864c"
      },
      "outputs": [
        {
          "output_type": "stream",
          "name": "stdout",
          "text": [
            "Looking in indexes: https://pypi.org/simple, https://us-python.pkg.dev/colab-wheels/public/simple/\n",
            "Collecting transformers\n",
            "  Downloading transformers-4.25.1-py3-none-any.whl (5.8 MB)\n",
            "\u001b[2K     \u001b[90m━━━━━━━━━━━━━━━━━━━━━━━━━━━━━━━━━━━━━━━━\u001b[0m \u001b[32m5.8/5.8 MB\u001b[0m \u001b[31m34.8 MB/s\u001b[0m eta \u001b[36m0:00:00\u001b[0m\n",
            "\u001b[?25hRequirement already satisfied: tqdm>=4.27 in /usr/local/lib/python3.8/dist-packages (from transformers) (4.64.1)\n",
            "Collecting tokenizers!=0.11.3,<0.14,>=0.11.1\n",
            "  Downloading tokenizers-0.13.2-cp38-cp38-manylinux_2_17_x86_64.manylinux2014_x86_64.whl (7.6 MB)\n",
            "\u001b[2K     \u001b[90m━━━━━━━━━━━━━━━━━━━━━━━━━━━━━━━━━━━━━━━━\u001b[0m \u001b[32m7.6/7.6 MB\u001b[0m \u001b[31m86.0 MB/s\u001b[0m eta \u001b[36m0:00:00\u001b[0m\n",
            "\u001b[?25hRequirement already satisfied: regex!=2019.12.17 in /usr/local/lib/python3.8/dist-packages (from transformers) (2022.6.2)\n",
            "Collecting huggingface-hub<1.0,>=0.10.0\n",
            "  Downloading huggingface_hub-0.11.1-py3-none-any.whl (182 kB)\n",
            "\u001b[2K     \u001b[90m━━━━━━━━━━━━━━━━━━━━━━━━━━━━━━━━━━━━━━\u001b[0m \u001b[32m182.4/182.4 KB\u001b[0m \u001b[31m20.7 MB/s\u001b[0m eta \u001b[36m0:00:00\u001b[0m\n",
            "\u001b[?25hRequirement already satisfied: packaging>=20.0 in /usr/local/lib/python3.8/dist-packages (from transformers) (21.3)\n",
            "Requirement already satisfied: pyyaml>=5.1 in /usr/local/lib/python3.8/dist-packages (from transformers) (6.0)\n",
            "Requirement already satisfied: numpy>=1.17 in /usr/local/lib/python3.8/dist-packages (from transformers) (1.21.6)\n",
            "Requirement already satisfied: filelock in /usr/local/lib/python3.8/dist-packages (from transformers) (3.9.0)\n",
            "Requirement already satisfied: requests in /usr/local/lib/python3.8/dist-packages (from transformers) (2.25.1)\n",
            "Requirement already satisfied: typing-extensions>=3.7.4.3 in /usr/local/lib/python3.8/dist-packages (from huggingface-hub<1.0,>=0.10.0->transformers) (4.4.0)\n",
            "Requirement already satisfied: pyparsing!=3.0.5,>=2.0.2 in /usr/local/lib/python3.8/dist-packages (from packaging>=20.0->transformers) (3.0.9)\n",
            "Requirement already satisfied: chardet<5,>=3.0.2 in /usr/local/lib/python3.8/dist-packages (from requests->transformers) (4.0.0)\n",
            "Requirement already satisfied: certifi>=2017.4.17 in /usr/local/lib/python3.8/dist-packages (from requests->transformers) (2022.12.7)\n",
            "Requirement already satisfied: idna<3,>=2.5 in /usr/local/lib/python3.8/dist-packages (from requests->transformers) (2.10)\n",
            "Requirement already satisfied: urllib3<1.27,>=1.21.1 in /usr/local/lib/python3.8/dist-packages (from requests->transformers) (1.24.3)\n",
            "Installing collected packages: tokenizers, huggingface-hub, transformers\n",
            "Successfully installed huggingface-hub-0.11.1 tokenizers-0.13.2 transformers-4.25.1\n",
            "Looking in indexes: https://pypi.org/simple, https://us-python.pkg.dev/colab-wheels/public/simple/\n",
            "Requirement already satisfied: torch in /usr/local/lib/python3.8/dist-packages (1.13.1+cu116)\n",
            "Requirement already satisfied: typing-extensions in /usr/local/lib/python3.8/dist-packages (from torch) (4.4.0)\n"
          ]
        }
      ],
      "source": [
        "!pip install transformers\n",
        "!pip install torch"
      ]
    },
    {
      "cell_type": "code",
      "source": [
        "import torch\n",
        "def get_best_device(allow_mps=False):\n",
        "    if torch.cuda.is_available():\n",
        "        return torch.device('cuda')\n",
        "    elif torch.has_mps and allow_mps:\n",
        "        return torch.device('mps')\n",
        "    else:\n",
        "        return torch.device('cpu')"
      ],
      "metadata": {
        "id": "xmdPa21VHPsV"
      },
      "execution_count": 2,
      "outputs": []
    },
    {
      "cell_type": "code",
      "source": [
        "device = get_best_device()\n"
      ],
      "metadata": {
        "id": "J4jBfguPHWTR"
      },
      "execution_count": 3,
      "outputs": []
    },
    {
      "cell_type": "code",
      "source": [
        " from transformers import T5ForConditionalGeneration, AutoTokenizer\n",
        " \n",
        " model = T5ForConditionalGeneration.from_pretrained('./drive/MyDrive/OutputModels/t5_new4/results/checkpoint-20000')\n",
        " tokenizer = AutoTokenizer.from_pretrained('yhavinga/t5-base-dutch')"
      ],
      "metadata": {
        "colab": {
          "base_uri": "https://localhost:8080/",
          "height": 130,
          "referenced_widgets": [
            "acfbab6febf74b69babdfbba58753558",
            "3591bf4ea1da4f99a0826afac573c46e",
            "ea14552169294820989b73d71e50da62",
            "4660a610912c4bf48e4162c3b40acab7",
            "31787879ef4945f5a4742c1b29e8a6dd",
            "4dd683aa444a461a93fc02c4fc4b396d",
            "bd5e1fdf9c8b45b9aa1bdb1139906915",
            "b5fb988017d24d4abe3935024b3d528b",
            "60df29a8442444a992e72fda21270396",
            "96d26b0f3c3b4705bc6ef6397809cec5",
            "8914bd5e28bb4738a3e77c01a8604b89",
            "fec4b69e68f54648b9f573924e068ea6",
            "e320b4602bfe45d0bcf3189974ca21b1",
            "aaa3d0b6bd014e62a9493d65f70e757d",
            "5b50a3b95d6a4dd0b809ba3c854364a1",
            "7083bedb92d64e57bc0a9c926fbf505e",
            "2386091552cb451cbfa0478e66fb3115",
            "3dab19afbf1c46329e9cb1cadb68a2b5",
            "04f68a31c28b4b35a8168d867d3ebede",
            "89cc8e34989640ec8c9fa0e35fa9aec6",
            "adbfbfc98d1343b2bbd3f8a2a594b37d",
            "d87f73089f4c4acdb645f9018aa78814",
            "95addbbd97424462a61b2c509c1ae681",
            "517b2b992bfd403a81b63f127805c10a",
            "2e4abac3d0114cbba0d61da25f204f04",
            "c1e929915c7f44d986c65759c8a3c47f",
            "6901f13414414521b827acc10ec13f4d",
            "ef4d8e1f2b224a4b97eaaf05bb01b2e7",
            "484fe5ad75c74c72bb287dc06bfbb64e",
            "d8486a8bca9141618014fe515484b3a2",
            "a067a921874c4fd9bac6991bf91c3243",
            "eab28b635416488c887bfa33ba1cdf5f",
            "d53c0d808c204793b2e378bf43b63afd"
          ]
        },
        "id": "0nTItG1uHkZn",
        "outputId": "9ef7b222-b408-49e6-cae9-6972609ea17b"
      },
      "execution_count": 4,
      "outputs": [
        {
          "output_type": "display_data",
          "data": {
            "text/plain": [
              "Downloading:   0%|          | 0.00/1.89k [00:00<?, ?B/s]"
            ],
            "application/vnd.jupyter.widget-view+json": {
              "version_major": 2,
              "version_minor": 0,
              "model_id": "acfbab6febf74b69babdfbba58753558"
            }
          },
          "metadata": {}
        },
        {
          "output_type": "display_data",
          "data": {
            "text/plain": [
              "Downloading:   0%|          | 0.00/1.03M [00:00<?, ?B/s]"
            ],
            "application/vnd.jupyter.widget-view+json": {
              "version_major": 2,
              "version_minor": 0,
              "model_id": "fec4b69e68f54648b9f573924e068ea6"
            }
          },
          "metadata": {}
        },
        {
          "output_type": "display_data",
          "data": {
            "text/plain": [
              "Downloading:   0%|          | 0.00/1.79k [00:00<?, ?B/s]"
            ],
            "application/vnd.jupyter.widget-view+json": {
              "version_major": 2,
              "version_minor": 0,
              "model_id": "95addbbd97424462a61b2c509c1ae681"
            }
          },
          "metadata": {}
        },
        {
          "output_type": "stream",
          "name": "stderr",
          "text": [
            "Special tokens have been added in the vocabulary, make sure the associated word embeddings are fine-tuned or trained.\n"
          ]
        }
      ]
    },
    {
      "cell_type": "code",
      "source": [
        "def test(context, question):\n",
        "  model.to(device)\n",
        "  with torch.no_grad():\n",
        "   \n",
        "    input_text = f'Context:{context}\\n\\nVraag: {question}'\n",
        "    print(input_text)\n",
        "    input_ids = tokenizer.encode(input_text, return_tensors='pt').to(device)\n",
        "    input_ids.to(device)\n",
        "    #print(input_ids)\n",
        "    # Generate the output sequence\n",
        "    generated_ids = model.generate(input_ids, do_sample=True,\n",
        "        max_length=200,\n",
        "        top_k=0,\n",
        "        temperature=0.7\n",
        "    )\n",
        "\n",
        "    output_text = tokenizer.decode(generated_ids.squeeze(), skip_special_tokens=True)\n",
        "    print(\"ANTWOORD:\",output_text)\n",
        "    del input_ids\n",
        "    del generated_ids\n",
        "    #torch.cuda.empty_cache()"
      ],
      "metadata": {
        "id": "CezZpuulHD2h"
      },
      "execution_count": 5,
      "outputs": []
    },
    {
      "cell_type": "code",
      "source": [
        "context = \"Willem Alexander is de koning van Nederland. Hij is getrouwd met Maxima. Ze hebben 3 kinderen, namelijk: Amalia, Alexia en Alexander. Willem Alexander en Maxima wonen in Den haag\"\n",
        "test(context, \"Wie is de koning van Nederland?\")\n",
        "test(context,\"Met wie is Willem Alexander getrouwd?\")\n",
        "test(context,\"Hoe veel kinderen heeft Willem Alexander?\")\n",
        "test(context,\"Hoe heten de kinderen van Willem Alexander en Maxima?\" )\n",
        "test(context,\"Waar wonen Willem Alexander en Maxima?\")"
      ],
      "metadata": {
        "colab": {
          "base_uri": "https://localhost:8080/"
        },
        "id": "mip3rzAwHK_j",
        "outputId": "82c04b55-194a-41fc-9990-354d10c11c1f"
      },
      "execution_count": 6,
      "outputs": [
        {
          "output_type": "stream",
          "name": "stdout",
          "text": [
            "Context:Willem Alexander is de koning van Nederland. Hij is getrouwd met Maxima. Ze hebben 3 kinderen, namelijk: Amalia, Alexia en Alexander. Willem Alexander en Maxima wonen in Den haag\n",
            "\n",
            "Vraag: Wie is de koning van Nederland?\n",
            "ANTWOORD: Willem Alexander\n",
            "Context:Willem Alexander is de koning van Nederland. Hij is getrouwd met Maxima. Ze hebben 3 kinderen, namelijk: Amalia, Alexia en Alexander. Willem Alexander en Maxima wonen in Den haag\n",
            "\n",
            "Vraag: Met wie is Willem Alexander getrouwd?\n",
            "ANTWOORD: Maxima\n",
            "Context:Willem Alexander is de koning van Nederland. Hij is getrouwd met Maxima. Ze hebben 3 kinderen, namelijk: Amalia, Alexia en Alexander. Willem Alexander en Maxima wonen in Den haag\n",
            "\n",
            "Vraag: Hoe veel kinderen heeft Willem Alexander?\n",
            "ANTWOORD: Onbekend\n",
            "Context:Willem Alexander is de koning van Nederland. Hij is getrouwd met Maxima. Ze hebben 3 kinderen, namelijk: Amalia, Alexia en Alexander. Willem Alexander en Maxima wonen in Den haag\n",
            "\n",
            "Vraag: Hoe heten de kinderen van Willem Alexander en Maxima?\n",
            "ANTWOORD: Onbekend\n",
            "Context:Willem Alexander is de koning van Nederland. Hij is getrouwd met Maxima. Ze hebben 3 kinderen, namelijk: Amalia, Alexia en Alexander. Willem Alexander en Maxima wonen in Den haag\n",
            "\n",
            "Vraag: Waar wonen Willem Alexander en Maxima?\n",
            "ANTWOORD: Den haag\n"
          ]
        }
      ]
    },
    {
      "cell_type": "code",
      "source": [
        "test(context,\"Hoe veel kinderen hebben Willem Alexander en Maxima samen?\")\n",
        "test(context,\"Hoe veel kinderen hebben Willem Alexander en Maxima?\")\n",
        "test(context,\"Willem Alexander is getrouwd met Maxima. Hoe veel kinderen hebben ze?\")\n",
        "test(context,\"Hoe veel kinderen hebben ze?\")"
      ],
      "metadata": {
        "colab": {
          "base_uri": "https://localhost:8080/"
        },
        "id": "dtX3Xv72JhX8",
        "outputId": "d4d2d58d-7338-42a6-edbb-4f3735841496"
      },
      "execution_count": 7,
      "outputs": [
        {
          "output_type": "stream",
          "name": "stdout",
          "text": [
            "Context:Willem Alexander is de koning van Nederland. Hij is getrouwd met Maxima. Ze hebben 3 kinderen, namelijk: Amalia, Alexia en Alexander. Willem Alexander en Maxima wonen in Den haag\n",
            "\n",
            "Vraag: Hoe veel kinderen hebben Willem Alexander en Maxima samen?\n",
            "ANTWOORD: Onbekend\n",
            "Context:Willem Alexander is de koning van Nederland. Hij is getrouwd met Maxima. Ze hebben 3 kinderen, namelijk: Amalia, Alexia en Alexander. Willem Alexander en Maxima wonen in Den haag\n",
            "\n",
            "Vraag: Hoe veel kinderen hebben Willem Alexander en Maxima?\n",
            "ANTWOORD: Onbekend\n",
            "Context:Willem Alexander is de koning van Nederland. Hij is getrouwd met Maxima. Ze hebben 3 kinderen, namelijk: Amalia, Alexia en Alexander. Willem Alexander en Maxima wonen in Den haag\n",
            "\n",
            "Vraag: Willem Alexander is getrouwd met Maxima. Hoe veel kinderen hebben ze?\n",
            "ANTWOORD: Onbekend\n",
            "Context:Willem Alexander is de koning van Nederland. Hij is getrouwd met Maxima. Ze hebben 3 kinderen, namelijk: Amalia, Alexia en Alexander. Willem Alexander en Maxima wonen in Den haag\n",
            "\n",
            "Vraag: Hoe veel kinderen hebben ze?\n",
            "ANTWOORD: Onbekend\n"
          ]
        }
      ]
    },
    {
      "cell_type": "code",
      "source": [
        "context = \"Groningen is een stad in het Noorden van Nederland. Groningen heeft ongeveer 300000 inwoners. Het centrale plein van Groningen heet de Grote Markt. Groningen bestaat sinds het jaar 1200.\"\n",
        "test(context, \"Wie is de koning van Nederland?\")\n",
        "test(context,\"Waar ligt Groningen?\")\n",
        "test(context,\"Hoe veel mensen wonen er in Groningen?\")\n",
        "test(context,\"Noem een plein in Groningen.\")\n",
        "test(context,\"Hoe noemen Groningers de stad Groningen?\")"
      ],
      "metadata": {
        "colab": {
          "base_uri": "https://localhost:8080/"
        },
        "id": "fNOV4I31S3Mc",
        "outputId": "cf52d1ba-4c15-4cb1-8524-d6f63242e7f4"
      },
      "execution_count": 25,
      "outputs": [
        {
          "output_type": "stream",
          "name": "stdout",
          "text": [
            "Context:Groningen is een stad in het Noorden van Nederland. Groningen heeft ongeveer 300000 inwoners. Het centrale plein van Groningen heet de Grote Markt. Groningen bestaat sinds het jaar 1200.\n",
            "\n",
            "Vraag: Wie is de koning van Nederland?\n",
            "ANTWOORD: Onbekend\n",
            "Context:Groningen is een stad in het Noorden van Nederland. Groningen heeft ongeveer 300000 inwoners. Het centrale plein van Groningen heet de Grote Markt. Groningen bestaat sinds het jaar 1200.\n",
            "\n",
            "Vraag: Waar ligt Groningen?\n",
            "ANTWOORD: Noorden van Nederland\n",
            "Context:Groningen is een stad in het Noorden van Nederland. Groningen heeft ongeveer 300000 inwoners. Het centrale plein van Groningen heet de Grote Markt. Groningen bestaat sinds het jaar 1200.\n",
            "\n",
            "Vraag: Hoe veel mensen wonen er in Groningen?\n",
            "ANTWOORD: ongeveer 300.000\n",
            "Context:Groningen is een stad in het Noorden van Nederland. Groningen heeft ongeveer 300000 inwoners. Het centrale plein van Groningen heet de Grote Markt. Groningen bestaat sinds het jaar 1200.\n",
            "\n",
            "Vraag: Noem een plein in Groningen.\n",
            "ANTWOORD: Grote Markt\n",
            "Context:Groningen is een stad in het Noorden van Nederland. Groningen heeft ongeveer 300000 inwoners. Het centrale plein van Groningen heet de Grote Markt. Groningen bestaat sinds het jaar 1200.\n",
            "\n",
            "Vraag: Hoe noemen Groningers de stad Groningen?\n",
            "ANTWOORD: Onbekend\n"
          ]
        }
      ]
    },
    {
      "cell_type": "code",
      "source": [
        "context = \"Tomaten zijn afkomstig uit Meso-Amerika, waar de voorvaderen van de Azteken en de Maya's kleine varianten kweekten. Toen de Spanjaarden Mexico veroverden was de plant daar al ingeburgerd. De Spaanse conquistadores stuurden planten met kleine gele vruchten, die in het Nahuatl, de taal van de Azteken xitomatl, werden genoemd, naar Spanje (het woord is verwant aan een ander Azteeks woord, namelijk xipotatl, de aardappel - vergelijk het Engelse potato en tomato). De als giftig beschouwde planten werden als sierplant geteeld. Rond 1750 kwam men er in Italië en de Provence achter dat de gele vruchtjes, pomo d'oro( Italiaans voor gouden appel), eetbaar waren. Door kruisen en selecteren kreeg de tomaat de rode kleur en vanaf 1850 is het een veelgebruikte groente in de Europese keuken.\"\n",
        "test(context, \"Waar komt de tomaat vandaan?\")\n",
        "test(context,\"Wie kweekten kleine varianten van de tomaat?\")\n",
        "test(context,\"Vanaf wanneer wordt de tomaat gebruikt in de Europese keuken?\")\n",
        "test(context,\"Pomo d'oro is italiaans voor wat?\")\n",
        "test(context,\"Wat betekent pomo d'oro?\")\n",
        "test(context,\"Worden er veel tomaten gegeten in China?\")\n",
        "test(context,\"Welke kleur vruchten heeft de tomaat?\")\n",
        "test(context,\"Welke kleur vruchten had de plant die de Spaanse conquistadores naar Spanje stuurden?\")\n",
        "test(context,\"Wat voor soort bloeiwijze heeft een tomaat?\")\n"
      ],
      "metadata": {
        "colab": {
          "base_uri": "https://localhost:8080/"
        },
        "id": "2Mn5wRKHvZKI",
        "outputId": "a2c20cf6-a81e-4774-cdbe-1b9c2f3f6f93"
      },
      "execution_count": 13,
      "outputs": [
        {
          "output_type": "stream",
          "name": "stdout",
          "text": [
            "Context:Tomaten zijn afkomstig uit Meso-Amerika, waar de voorvaderen van de Azteken en de Maya's kleine varianten kweekten. Toen de Spanjaarden Mexico veroverden was de plant daar al ingeburgerd. De Spaanse conquistadores stuurden planten met kleine gele vruchten, die in het Nahuatl, de taal van de Azteken xitomatl, werden genoemd, naar Spanje (het woord is verwant aan een ander Azteeks woord, namelijk xipotatl, de aardappel - vergelijk het Engelse potato en tomato). De als giftig beschouwde planten werden als sierplant geteeld. Rond 1750 kwam men er in Italië en de Provence achter dat de gele vruchtjes, pomo d'oro( Italiaans voor gouden appel), eetbaar waren. Door kruisen en selecteren kreeg de tomaat de rode kleur en vanaf 1850 is het een veelgebruikte groente in de Europese keuken.\n",
            "\n",
            "Vraag: Waar komt de tomaat vandaan?\n",
            "ANTWOORD: Meso-Amerika\n",
            "Context:Tomaten zijn afkomstig uit Meso-Amerika, waar de voorvaderen van de Azteken en de Maya's kleine varianten kweekten. Toen de Spanjaarden Mexico veroverden was de plant daar al ingeburgerd. De Spaanse conquistadores stuurden planten met kleine gele vruchten, die in het Nahuatl, de taal van de Azteken xitomatl, werden genoemd, naar Spanje (het woord is verwant aan een ander Azteeks woord, namelijk xipotatl, de aardappel - vergelijk het Engelse potato en tomato). De als giftig beschouwde planten werden als sierplant geteeld. Rond 1750 kwam men er in Italië en de Provence achter dat de gele vruchtjes, pomo d'oro( Italiaans voor gouden appel), eetbaar waren. Door kruisen en selecteren kreeg de tomaat de rode kleur en vanaf 1850 is het een veelgebruikte groente in de Europese keuken.\n",
            "\n",
            "Vraag: Wie kweekten kleine varianten van de tomaat?\n",
            "ANTWOORD: de Azteken en de Maya's\n",
            "Context:Tomaten zijn afkomstig uit Meso-Amerika, waar de voorvaderen van de Azteken en de Maya's kleine varianten kweekten. Toen de Spanjaarden Mexico veroverden was de plant daar al ingeburgerd. De Spaanse conquistadores stuurden planten met kleine gele vruchten, die in het Nahuatl, de taal van de Azteken xitomatl, werden genoemd, naar Spanje (het woord is verwant aan een ander Azteeks woord, namelijk xipotatl, de aardappel - vergelijk het Engelse potato en tomato). De als giftig beschouwde planten werden als sierplant geteeld. Rond 1750 kwam men er in Italië en de Provence achter dat de gele vruchtjes, pomo d'oro( Italiaans voor gouden appel), eetbaar waren. Door kruisen en selecteren kreeg de tomaat de rode kleur en vanaf 1850 is het een veelgebruikte groente in de Europese keuken.\n",
            "\n",
            "Vraag: Vanaf wanneer wordt de tomaat gebruikt in de Europese keuken?\n",
            "ANTWOORD: 1850\n",
            "Context:Tomaten zijn afkomstig uit Meso-Amerika, waar de voorvaderen van de Azteken en de Maya's kleine varianten kweekten. Toen de Spanjaarden Mexico veroverden was de plant daar al ingeburgerd. De Spaanse conquistadores stuurden planten met kleine gele vruchten, die in het Nahuatl, de taal van de Azteken xitomatl, werden genoemd, naar Spanje (het woord is verwant aan een ander Azteeks woord, namelijk xipotatl, de aardappel - vergelijk het Engelse potato en tomato). De als giftig beschouwde planten werden als sierplant geteeld. Rond 1750 kwam men er in Italië en de Provence achter dat de gele vruchtjes, pomo d'oro( Italiaans voor gouden appel), eetbaar waren. Door kruisen en selecteren kreeg de tomaat de rode kleur en vanaf 1850 is het een veelgebruikte groente in de Europese keuken.\n",
            "\n",
            "Vraag: Pomo d'oro is italiaans voor wat?\n",
            "ANTWOORD: gouden appel\n",
            "Context:Tomaten zijn afkomstig uit Meso-Amerika, waar de voorvaderen van de Azteken en de Maya's kleine varianten kweekten. Toen de Spanjaarden Mexico veroverden was de plant daar al ingeburgerd. De Spaanse conquistadores stuurden planten met kleine gele vruchten, die in het Nahuatl, de taal van de Azteken xitomatl, werden genoemd, naar Spanje (het woord is verwant aan een ander Azteeks woord, namelijk xipotatl, de aardappel - vergelijk het Engelse potato en tomato). De als giftig beschouwde planten werden als sierplant geteeld. Rond 1750 kwam men er in Italië en de Provence achter dat de gele vruchtjes, pomo d'oro( Italiaans voor gouden appel), eetbaar waren. Door kruisen en selecteren kreeg de tomaat de rode kleur en vanaf 1850 is het een veelgebruikte groente in de Europese keuken.\n",
            "\n",
            "Vraag: Wat betekent pomo d'oro?\n",
            "ANTWOORD: gouden appel\n",
            "Context:Tomaten zijn afkomstig uit Meso-Amerika, waar de voorvaderen van de Azteken en de Maya's kleine varianten kweekten. Toen de Spanjaarden Mexico veroverden was de plant daar al ingeburgerd. De Spaanse conquistadores stuurden planten met kleine gele vruchten, die in het Nahuatl, de taal van de Azteken xitomatl, werden genoemd, naar Spanje (het woord is verwant aan een ander Azteeks woord, namelijk xipotatl, de aardappel - vergelijk het Engelse potato en tomato). De als giftig beschouwde planten werden als sierplant geteeld. Rond 1750 kwam men er in Italië en de Provence achter dat de gele vruchtjes, pomo d'oro( Italiaans voor gouden appel), eetbaar waren. Door kruisen en selecteren kreeg de tomaat de rode kleur en vanaf 1850 is het een veelgebruikte groente in de Europese keuken.\n",
            "\n",
            "Vraag: Worden er veel tomaten gegeten in China?\n",
            "ANTWOORD: Onbekend\n",
            "Context:Tomaten zijn afkomstig uit Meso-Amerika, waar de voorvaderen van de Azteken en de Maya's kleine varianten kweekten. Toen de Spanjaarden Mexico veroverden was de plant daar al ingeburgerd. De Spaanse conquistadores stuurden planten met kleine gele vruchten, die in het Nahuatl, de taal van de Azteken xitomatl, werden genoemd, naar Spanje (het woord is verwant aan een ander Azteeks woord, namelijk xipotatl, de aardappel - vergelijk het Engelse potato en tomato). De als giftig beschouwde planten werden als sierplant geteeld. Rond 1750 kwam men er in Italië en de Provence achter dat de gele vruchtjes, pomo d'oro( Italiaans voor gouden appel), eetbaar waren. Door kruisen en selecteren kreeg de tomaat de rode kleur en vanaf 1850 is het een veelgebruikte groente in de Europese keuken.\n",
            "\n",
            "Vraag: Welke kleur vruchten heeft de tomaat?\n",
            "ANTWOORD: rood\n",
            "Context:Tomaten zijn afkomstig uit Meso-Amerika, waar de voorvaderen van de Azteken en de Maya's kleine varianten kweekten. Toen de Spanjaarden Mexico veroverden was de plant daar al ingeburgerd. De Spaanse conquistadores stuurden planten met kleine gele vruchten, die in het Nahuatl, de taal van de Azteken xitomatl, werden genoemd, naar Spanje (het woord is verwant aan een ander Azteeks woord, namelijk xipotatl, de aardappel - vergelijk het Engelse potato en tomato). De als giftig beschouwde planten werden als sierplant geteeld. Rond 1750 kwam men er in Italië en de Provence achter dat de gele vruchtjes, pomo d'oro( Italiaans voor gouden appel), eetbaar waren. Door kruisen en selecteren kreeg de tomaat de rode kleur en vanaf 1850 is het een veelgebruikte groente in de Europese keuken.\n",
            "\n",
            "Vraag: Welke kleur vruchten had de plant die de Spaanse conquistadores naar Spanje stuurden?\n",
            "ANTWOORD: kleine gele\n",
            "Context:Tomaten zijn afkomstig uit Meso-Amerika, waar de voorvaderen van de Azteken en de Maya's kleine varianten kweekten. Toen de Spanjaarden Mexico veroverden was de plant daar al ingeburgerd. De Spaanse conquistadores stuurden planten met kleine gele vruchten, die in het Nahuatl, de taal van de Azteken xitomatl, werden genoemd, naar Spanje (het woord is verwant aan een ander Azteeks woord, namelijk xipotatl, de aardappel - vergelijk het Engelse potato en tomato). De als giftig beschouwde planten werden als sierplant geteeld. Rond 1750 kwam men er in Italië en de Provence achter dat de gele vruchtjes, pomo d'oro( Italiaans voor gouden appel), eetbaar waren. Door kruisen en selecteren kreeg de tomaat de rode kleur en vanaf 1850 is het een veelgebruikte groente in de Europese keuken.\n",
            "\n",
            "Vraag: Wat voor soort bloeiwijze heeft een tomaat?\n",
            "ANTWOORD: Onbekend\n"
          ]
        }
      ]
    },
    {
      "cell_type": "code",
      "source": [
        "context = \"Leerkrachten van het lager onderwijs instrueren leerlingen op een lager schoolniveau. Zij ontwikkelen lesplannen overeenkomstig de doelstellingen van de leerplannen voor de verscheidenheid aan vakken die zij onderwijzen, met inbegrip van wiskunde, talen, natuurstudies en muziek. Zij houden toezicht op de leerontwikkeling van de leerlingen en evalueren hun kennis en vaardigheden over de onderwezen vakken. Zij baseren de inhoud van hun curriculum op de kennis van de leerlingen van wat ze eerder hebben geleerd en stimuleren ze om hun inzicht te verdiepen in de vakken waarin ze geïnteresseerd zijn. Zij maken gebruik van hulpmiddelen in de klas en leermethoden om een inspirerende leeromgeving te creëren. Leerkrachten in het basisonderwijs dragen ook bij aan schoolevenementen en communiceren met ouders en administratief personeel.\"\n",
        "test(context,\"Wat zijn de taken van leerkrachten in het lager onderwijs?\")\n",
        "test(context,\"Noem vakken die leraren van het lager onderwijs onderwijzen.\")\n",
        "test(context,\"met wie communiceren leekrachten in het lager onderwijs?\")\n",
        "test(context,\"Waar moeten leerkrachten van het lager onderwijs toezicht op houden?\")\n",
        "test(context,\"Op welk niveau instrueren leerkrachten van het lager onderwijs?\")"
      ],
      "metadata": {
        "colab": {
          "base_uri": "https://localhost:8080/"
        },
        "id": "hopPLgtjxRNc",
        "outputId": "34be237a-d9de-470a-eff0-438c2d7650ff"
      },
      "execution_count": 14,
      "outputs": [
        {
          "output_type": "stream",
          "name": "stdout",
          "text": [
            "Context:Leerkrachten van het lager onderwijs instrueren leerlingen op een lager schoolniveau. Zij ontwikkelen lesplannen overeenkomstig de doelstellingen van de leerplannen voor de verscheidenheid aan vakken die zij onderwijzen, met inbegrip van wiskunde, talen, natuurstudies en muziek. Zij houden toezicht op de leerontwikkeling van de leerlingen en evalueren hun kennis en vaardigheden over de onderwezen vakken. Zij baseren de inhoud van hun curriculum op de kennis van de leerlingen van wat ze eerder hebben geleerd en stimuleren ze om hun inzicht te verdiepen in de vakken waarin ze geïnteresseerd zijn. Zij maken gebruik van hulpmiddelen in de klas en leermethoden om een inspirerende leeromgeving te creëren. Leerkrachten in het basisonderwijs dragen ook bij aan schoolevenementen en communiceren met ouders en administratief personeel.\n",
            "\n",
            "Vraag: Wat zijn de taken van leerkrachten in het lager onderwijs?\n",
            "ANTWOORD: Onbekend\n",
            "Context:Leerkrachten van het lager onderwijs instrueren leerlingen op een lager schoolniveau. Zij ontwikkelen lesplannen overeenkomstig de doelstellingen van de leerplannen voor de verscheidenheid aan vakken die zij onderwijzen, met inbegrip van wiskunde, talen, natuurstudies en muziek. Zij houden toezicht op de leerontwikkeling van de leerlingen en evalueren hun kennis en vaardigheden over de onderwezen vakken. Zij baseren de inhoud van hun curriculum op de kennis van de leerlingen van wat ze eerder hebben geleerd en stimuleren ze om hun inzicht te verdiepen in de vakken waarin ze geïnteresseerd zijn. Zij maken gebruik van hulpmiddelen in de klas en leermethoden om een inspirerende leeromgeving te creëren. Leerkrachten in het basisonderwijs dragen ook bij aan schoolevenementen en communiceren met ouders en administratief personeel.\n",
            "\n",
            "Vraag: Noem vakken die leraren van het lager onderwijs onderwijzen.\n",
            "ANTWOORD: wiskunde, talen, natuurstudies en muziek\n",
            "Context:Leerkrachten van het lager onderwijs instrueren leerlingen op een lager schoolniveau. Zij ontwikkelen lesplannen overeenkomstig de doelstellingen van de leerplannen voor de verscheidenheid aan vakken die zij onderwijzen, met inbegrip van wiskunde, talen, natuurstudies en muziek. Zij houden toezicht op de leerontwikkeling van de leerlingen en evalueren hun kennis en vaardigheden over de onderwezen vakken. Zij baseren de inhoud van hun curriculum op de kennis van de leerlingen van wat ze eerder hebben geleerd en stimuleren ze om hun inzicht te verdiepen in de vakken waarin ze geïnteresseerd zijn. Zij maken gebruik van hulpmiddelen in de klas en leermethoden om een inspirerende leeromgeving te creëren. Leerkrachten in het basisonderwijs dragen ook bij aan schoolevenementen en communiceren met ouders en administratief personeel.\n",
            "\n",
            "Vraag: met wie communiceren leekrachten in het lager onderwijs?\n",
            "ANTWOORD: Onbekend\n",
            "Context:Leerkrachten van het lager onderwijs instrueren leerlingen op een lager schoolniveau. Zij ontwikkelen lesplannen overeenkomstig de doelstellingen van de leerplannen voor de verscheidenheid aan vakken die zij onderwijzen, met inbegrip van wiskunde, talen, natuurstudies en muziek. Zij houden toezicht op de leerontwikkeling van de leerlingen en evalueren hun kennis en vaardigheden over de onderwezen vakken. Zij baseren de inhoud van hun curriculum op de kennis van de leerlingen van wat ze eerder hebben geleerd en stimuleren ze om hun inzicht te verdiepen in de vakken waarin ze geïnteresseerd zijn. Zij maken gebruik van hulpmiddelen in de klas en leermethoden om een inspirerende leeromgeving te creëren. Leerkrachten in het basisonderwijs dragen ook bij aan schoolevenementen en communiceren met ouders en administratief personeel.\n",
            "\n",
            "Vraag: Waar moeten leerkrachten van het lager onderwijs toezicht op houden?\n",
            "ANTWOORD: Onbekend\n",
            "Context:Leerkrachten van het lager onderwijs instrueren leerlingen op een lager schoolniveau. Zij ontwikkelen lesplannen overeenkomstig de doelstellingen van de leerplannen voor de verscheidenheid aan vakken die zij onderwijzen, met inbegrip van wiskunde, talen, natuurstudies en muziek. Zij houden toezicht op de leerontwikkeling van de leerlingen en evalueren hun kennis en vaardigheden over de onderwezen vakken. Zij baseren de inhoud van hun curriculum op de kennis van de leerlingen van wat ze eerder hebben geleerd en stimuleren ze om hun inzicht te verdiepen in de vakken waarin ze geïnteresseerd zijn. Zij maken gebruik van hulpmiddelen in de klas en leermethoden om een inspirerende leeromgeving te creëren. Leerkrachten in het basisonderwijs dragen ook bij aan schoolevenementen en communiceren met ouders en administratief personeel.\n",
            "\n",
            "Vraag: Op welk niveau instrueren leerkrachten van het lager onderwijs?\n",
            "ANTWOORD: een lager schoolniveau\n"
          ]
        }
      ]
    },
    {
      "cell_type": "code",
      "source": [
        "#uitzoeken of de tekst voor de vorige vraag misschien te lang is waardoor het antwoord over de communicatie vraag niet goed gaat. Dit lijkt idd het geval.\n",
        "context = \"Leerkrachten van het lager onderwijs instrueren leerlingen op een lager schoolniveau. Zij ontwikkelen lesplannen voor de verscheidenheid aan vakken die zij onderwijzen, met inbegrip van wiskunde, talen, natuurstudies en muziek. Leerkrachten in het basisonderwijs dragen ook bij aan schoolevenementen en communiceren met ouders en administratief personeel.\"\n",
        "test(context,\"Wat zijn de taken van leerkrachten in het lager onderwijs?\")\n",
        "test(context,\"Noem vakken die leraren van het lager onderwijs onderwijzen.\")\n",
        "test(context,\"met wie communiceren leekrachten in het lager onderwijs?\")\n",
        "test(context,\"Waar moeten leerkrachten van het lager onderwijs toezicht op houden?\")\n",
        "test(context,\"Op welk niveau instrueren leerkrachten van het lager onderwijs?\")"
      ],
      "metadata": {
        "colab": {
          "base_uri": "https://localhost:8080/"
        },
        "id": "il4o7inzzBAI",
        "outputId": "e5912f41-c978-48da-b707-b3d34fc5340c"
      },
      "execution_count": 15,
      "outputs": [
        {
          "output_type": "stream",
          "name": "stdout",
          "text": [
            "Context:Leerkrachten van het lager onderwijs instrueren leerlingen op een lager schoolniveau. Zij ontwikkelen lesplannen voor de verscheidenheid aan vakken die zij onderwijzen, met inbegrip van wiskunde, talen, natuurstudies en muziek. Leerkrachten in het basisonderwijs dragen ook bij aan schoolevenementen en communiceren met ouders en administratief personeel.\n",
            "\n",
            "Vraag: Wat zijn de taken van leerkrachten in het lager onderwijs?\n",
            "ANTWOORD: Onbekend\n",
            "Context:Leerkrachten van het lager onderwijs instrueren leerlingen op een lager schoolniveau. Zij ontwikkelen lesplannen voor de verscheidenheid aan vakken die zij onderwijzen, met inbegrip van wiskunde, talen, natuurstudies en muziek. Leerkrachten in het basisonderwijs dragen ook bij aan schoolevenementen en communiceren met ouders en administratief personeel.\n",
            "\n",
            "Vraag: Noem vakken die leraren van het lager onderwijs onderwijzen.\n",
            "ANTWOORD: wiskunde, talen, natuurstudies en muziek\n",
            "Context:Leerkrachten van het lager onderwijs instrueren leerlingen op een lager schoolniveau. Zij ontwikkelen lesplannen voor de verscheidenheid aan vakken die zij onderwijzen, met inbegrip van wiskunde, talen, natuurstudies en muziek. Leerkrachten in het basisonderwijs dragen ook bij aan schoolevenementen en communiceren met ouders en administratief personeel.\n",
            "\n",
            "Vraag: met wie communiceren leekrachten in het lager onderwijs?\n",
            "ANTWOORD: ouders en administratief personeel\n",
            "Context:Leerkrachten van het lager onderwijs instrueren leerlingen op een lager schoolniveau. Zij ontwikkelen lesplannen voor de verscheidenheid aan vakken die zij onderwijzen, met inbegrip van wiskunde, talen, natuurstudies en muziek. Leerkrachten in het basisonderwijs dragen ook bij aan schoolevenementen en communiceren met ouders en administratief personeel.\n",
            "\n",
            "Vraag: Waar moeten leerkrachten van het lager onderwijs toezicht op houden?\n",
            "ANTWOORD: Onbekend\n",
            "Context:Leerkrachten van het lager onderwijs instrueren leerlingen op een lager schoolniveau. Zij ontwikkelen lesplannen voor de verscheidenheid aan vakken die zij onderwijzen, met inbegrip van wiskunde, talen, natuurstudies en muziek. Leerkrachten in het basisonderwijs dragen ook bij aan schoolevenementen en communiceren met ouders en administratief personeel.\n",
            "\n",
            "Vraag: Op welk niveau instrueren leerkrachten van het lager onderwijs?\n",
            "ANTWOORD: lager\n"
          ]
        }
      ]
    },
    {
      "cell_type": "code",
      "source": [
        "# er zijn problemen met de hoofdletters (Wat plaatsen Deurenmonteurs wordt sneller juist beantwoordt dan wat plaatsen deurenmonteurs) \n",
        "# en het lijkt er niet op dat het model om kan gaan met ja/nee vragen of het werkwoord \"doen\". \n",
        "context = \"Deurenmonteurs plaatsen deuren. Zij verwijderen zo nodig de oude deur, bereiden de kaderopening voor en plaatsen de nieuwe deur met rechte hoek, recht, genivelleerd, en zo nodig waterdicht. Deurenmonteurs moeten ook de bestaande deuren inspecteren en herstellen.\"\n",
        "test(context,\"Wat doen deurenmonteurs?\")\n",
        "test(context,\"Is het waar dat deurenmonteurs deuren plaatsen?\")\n",
        "test(context,\"Plaatsen deurenmonteurs deuren?\")\n",
        "test(context,\"Wat plaatsen deurenmonteurs?\")\n",
        "test(context,\"Wat plaatsen Deurenmonteurs?\")\n",
        "test(context,\"Deurenmonteurs plaatsen wat?\")\n",
        "\n",
        "test(context,\"Wat doen deurenmonteurs met oude deuren?\")\n",
        "test(context,\"wat moeten deurenmonteurs doen met bestaande deuren?\")\n",
        "test(context,\"Met wat voor hoek plaatst een deurenmonteur deuren?\")"
      ],
      "metadata": {
        "colab": {
          "base_uri": "https://localhost:8080/"
        },
        "id": "9naKorlMzkan",
        "outputId": "caa42e42-c167-4c66-b5e1-5bdec6e44ad5"
      },
      "execution_count": 24,
      "outputs": [
        {
          "output_type": "stream",
          "name": "stdout",
          "text": [
            "Context:Deurenmonteurs plaatsen deuren. Zij verwijderen zo nodig de oude deur, bereiden de kaderopening voor en plaatsen de nieuwe deur met rechte hoek, recht, genivelleerd, en zo nodig waterdicht. Deurenmonteurs moeten ook de bestaande deuren inspecteren en herstellen.\n",
            "\n",
            "Vraag: Wat doen deurenmonteurs?\n",
            "ANTWOORD: Onbekend\n",
            "Context:Deurenmonteurs plaatsen deuren. Zij verwijderen zo nodig de oude deur, bereiden de kaderopening voor en plaatsen de nieuwe deur met rechte hoek, recht, genivelleerd, en zo nodig waterdicht. Deurenmonteurs moeten ook de bestaande deuren inspecteren en herstellen.\n",
            "\n",
            "Vraag: Is het waar dat deurenmonteurs deuren plaatsen?\n",
            "ANTWOORD: Onbekend\n",
            "Context:Deurenmonteurs plaatsen deuren. Zij verwijderen zo nodig de oude deur, bereiden de kaderopening voor en plaatsen de nieuwe deur met rechte hoek, recht, genivelleerd, en zo nodig waterdicht. Deurenmonteurs moeten ook de bestaande deuren inspecteren en herstellen.\n",
            "\n",
            "Vraag: Plaatsen deurenmonteurs deuren?\n",
            "ANTWOORD: Onbekend\n",
            "Context:Deurenmonteurs plaatsen deuren. Zij verwijderen zo nodig de oude deur, bereiden de kaderopening voor en plaatsen de nieuwe deur met rechte hoek, recht, genivelleerd, en zo nodig waterdicht. Deurenmonteurs moeten ook de bestaande deuren inspecteren en herstellen.\n",
            "\n",
            "Vraag: Wat plaatsen deurenmonteurs?\n",
            "ANTWOORD: Onbekend\n",
            "Context:Deurenmonteurs plaatsen deuren. Zij verwijderen zo nodig de oude deur, bereiden de kaderopening voor en plaatsen de nieuwe deur met rechte hoek, recht, genivelleerd, en zo nodig waterdicht. Deurenmonteurs moeten ook de bestaande deuren inspecteren en herstellen.\n",
            "\n",
            "Vraag: Wat plaatsen Deurenmonteurs?\n",
            "ANTWOORD: deuren\n",
            "Context:Deurenmonteurs plaatsen deuren. Zij verwijderen zo nodig de oude deur, bereiden de kaderopening voor en plaatsen de nieuwe deur met rechte hoek, recht, genivelleerd, en zo nodig waterdicht. Deurenmonteurs moeten ook de bestaande deuren inspecteren en herstellen.\n",
            "\n",
            "Vraag: Deurenmonteurs plaatsen wat?\n",
            "ANTWOORD: Onbekend\n",
            "Context:Deurenmonteurs plaatsen deuren. Zij verwijderen zo nodig de oude deur, bereiden de kaderopening voor en plaatsen de nieuwe deur met rechte hoek, recht, genivelleerd, en zo nodig waterdicht. Deurenmonteurs moeten ook de bestaande deuren inspecteren en herstellen.\n",
            "\n",
            "Vraag: Wat doen deurenmonteurs met oude deuren?\n",
            "ANTWOORD: Onbekend\n",
            "Context:Deurenmonteurs plaatsen deuren. Zij verwijderen zo nodig de oude deur, bereiden de kaderopening voor en plaatsen de nieuwe deur met rechte hoek, recht, genivelleerd, en zo nodig waterdicht. Deurenmonteurs moeten ook de bestaande deuren inspecteren en herstellen.\n",
            "\n",
            "Vraag: wat moeten deurenmonteurs doen met bestaande deuren?\n",
            "ANTWOORD: inspecteren en herstellen\n",
            "Context:Deurenmonteurs plaatsen deuren. Zij verwijderen zo nodig de oude deur, bereiden de kaderopening voor en plaatsen de nieuwe deur met rechte hoek, recht, genivelleerd, en zo nodig waterdicht. Deurenmonteurs moeten ook de bestaande deuren inspecteren en herstellen.\n",
            "\n",
            "Vraag: Met wat voor hoek plaatst een deurenmonteur deuren?\n",
            "ANTWOORD: Onbekend\n"
          ]
        }
      ]
    },
    {
      "cell_type": "code",
      "source": [
        "context = \"Het brein ziet 3 dimensies aan kleuren: een dimensie die loopt van rood naar groen, een dimensie die loopt van geel naar blauw, en een zwart wit dimensie. Het oog ziet drie andere primaire kleuren, namelijk rood, groen en blauw, en daarnaast zwart/wit via andere cellen.\"\n",
        "test(context,\"Welke kleuren ziet het brein?\")\n",
        "test(context,\"Welke kleuren ziet het oog?\")\n",
        "test(context,\"Ziet het brein een dimensie die loopt van groen naar oranje?\")\n",
        "test(context,\"Hoe veel dimensies hebben kleuren in het brein?\")\n",
        "test(context,\"Welke dimensies aan kleuren ziet het brein?\")\n",
        "test(context,\"De dimensie die loopt van rood heeft als andere kleur?\")\n",
        "test(context,\"Welke 3 dimensies aan kleuren ziet het brein?\")"
      ],
      "metadata": {
        "colab": {
          "base_uri": "https://localhost:8080/"
        },
        "id": "chRKUPky1v_U",
        "outputId": "fbb33cc7-2b28-41ac-b9a8-af957c2db2bd"
      },
      "execution_count": 31,
      "outputs": [
        {
          "output_type": "stream",
          "name": "stdout",
          "text": [
            "Context:Het brein ziet 3 dimensies aan kleuren: een dimensie die loopt van rood naar groen, een dimensie die loopt van geel naar blauw, en een zwart wit dimensie. Het oog ziet drie andere primaire kleuren, namelijk rood, groen en blauw, en daarnaast zwart/wit via andere cellen.\n",
            "\n",
            "Vraag: Welke kleuren ziet het brein?\n",
            "ANTWOORD: 3\n",
            "Context:Het brein ziet 3 dimensies aan kleuren: een dimensie die loopt van rood naar groen, een dimensie die loopt van geel naar blauw, en een zwart wit dimensie. Het oog ziet drie andere primaire kleuren, namelijk rood, groen en blauw, en daarnaast zwart/wit via andere cellen.\n",
            "\n",
            "Vraag: Welke kleuren ziet het oog?\n",
            "ANTWOORD: rood, groen en blauw\n",
            "Context:Het brein ziet 3 dimensies aan kleuren: een dimensie die loopt van rood naar groen, een dimensie die loopt van geel naar blauw, en een zwart wit dimensie. Het oog ziet drie andere primaire kleuren, namelijk rood, groen en blauw, en daarnaast zwart/wit via andere cellen.\n",
            "\n",
            "Vraag: Ziet het brein een dimensie die loopt van groen naar oranje?\n",
            "ANTWOORD: Onbekend\n",
            "Context:Het brein ziet 3 dimensies aan kleuren: een dimensie die loopt van rood naar groen, een dimensie die loopt van geel naar blauw, en een zwart wit dimensie. Het oog ziet drie andere primaire kleuren, namelijk rood, groen en blauw, en daarnaast zwart/wit via andere cellen.\n",
            "\n",
            "Vraag: Hoe veel dimensies hebben kleuren in het brein?\n",
            "ANTWOORD: 3\n",
            "Context:Het brein ziet 3 dimensies aan kleuren: een dimensie die loopt van rood naar groen, een dimensie die loopt van geel naar blauw, en een zwart wit dimensie. Het oog ziet drie andere primaire kleuren, namelijk rood, groen en blauw, en daarnaast zwart/wit via andere cellen.\n",
            "\n",
            "Vraag: Welke dimensies aan kleuren ziet het brein?\n",
            "ANTWOORD: 3\n",
            "Context:Het brein ziet 3 dimensies aan kleuren: een dimensie die loopt van rood naar groen, een dimensie die loopt van geel naar blauw, en een zwart wit dimensie. Het oog ziet drie andere primaire kleuren, namelijk rood, groen en blauw, en daarnaast zwart/wit via andere cellen.\n",
            "\n",
            "Vraag: De dimensie die loopt van rood heeft als andere kleur?\n",
            "ANTWOORD: Onbekend\n",
            "Context:Het brein ziet 3 dimensies aan kleuren: een dimensie die loopt van rood naar groen, een dimensie die loopt van geel naar blauw, en een zwart wit dimensie. Het oog ziet drie andere primaire kleuren, namelijk rood, groen en blauw, en daarnaast zwart/wit via andere cellen.\n",
            "\n",
            "Vraag: Welke 3 dimensies aan kleuren ziet het brein?\n",
            "ANTWOORD: rood naar groen\n"
          ]
        }
      ]
    },
    {
      "cell_type": "code",
      "source": [],
      "metadata": {
        "id": "ltZO1nPj3giI"
      },
      "execution_count": null,
      "outputs": []
    },
    {
      "cell_type": "code",
      "source": [],
      "metadata": {
        "id": "GFavCuaa0Tb6"
      },
      "execution_count": null,
      "outputs": []
    }
  ]
}